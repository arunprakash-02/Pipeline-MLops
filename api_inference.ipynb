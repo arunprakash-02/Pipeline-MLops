{
 "cells": [
  {
   "cell_type": "code",
   "execution_count": null,
   "id": "08d84653-6699-4f84-b848-3a13db3bc332",
   "metadata": {},
   "outputs": [],
   "source": [
    "from fastapi import FastAPI, HTTPException\n",
    "from pydantic import BaseModel\n",
    "import numpy as np\n",
    "import pickle\n",
    "\n",
    "app = FastAPI()\n",
    "\n",
    "# Load the trained model\n",
    "with open(\"trained_model.pkl\", \"rb\") as model_file:\n",
    "    model = pickle.load(model_file)\n",
    "\n",
    "# Define the input schema for the API\n",
    "class ModelInput(BaseModel):\n",
    "    feature1: float\n",
    "    feature2: float\n",
    "    feature3: float\n",
    "    feature4: float\n",
    "\n",
    "@app.post(\"/predict\")\n",
    "def predict(input_data: ModelInput):\n",
    "    # Convert input data to a NumPy array\n",
    "    features = np.array([[input_data.feature1, input_data.feature2, input_data.feature3, input_data.feature4]])\n",
    "    prediction = model.predict(features)\n",
    "    return {\"class\": int(prediction[0])}"
   ]
  }
 ],
 "metadata": {
  "kernelspec": {
   "display_name": "Python 3 (ipykernel)",
   "language": "python",
   "name": "python3"
  },
  "language_info": {
   "codemirror_mode": {
    "name": "ipython",
    "version": 3
   },
   "file_extension": ".py",
   "mimetype": "text/x-python",
   "name": "python",
   "nbconvert_exporter": "python",
   "pygments_lexer": "ipython3",
   "version": "3.11.7"
  }
 },
 "nbformat": 4,
 "nbformat_minor": 5
}
