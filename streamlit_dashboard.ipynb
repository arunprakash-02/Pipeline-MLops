{
 "cells": [
  {
   "cell_type": "code",
   "execution_count": null,
   "id": "f737a91a-fc54-40d4-92cf-50504408321d",
   "metadata": {},
   "outputs": [],
   "source": [
    "import streamlit as st\n",
    "import requests\n",
    "\n",
    "# Define the API URL\n",
    "API_URL = \"http://127.0.0.1:8000/predict\"\n",
    "\n",
    "# Title of the Streamlit App\n",
    "st.title(\"Iris Model Inference Dashboard\")\n",
    "\n",
    "# Input fields for the four features\n",
    "feature1 = st.number_input(\"Feature 1 (Sepal Length)\", value=5.1)\n",
    "feature2 = st.number_input(\"Feature 2 (Sepal Width)\", value=3.5)\n",
    "feature3 = st.number_input(\"Feature 3 (Petal Length)\", value=1.4)\n",
    "feature4 = st.number_input(\"Feature 4 (Petal Width)\", value=0.2)\n",
    "\n",
    "# Button to get predictions\n",
    "if st.button(\"Predict\"):\n",
    "    # Prepare the input payload\n",
    "    input_data = {\n",
    "        \"feature1\": feature1,\n",
    "        \"feature2\": feature2,\n",
    "        \"feature3\": feature3,\n",
    "        \"feature4\": feature4,\n",
    "    }\n",
    "\n",
    "    # Call the API\n",
    "    response = requests.post(API_URL, json=input_data)\n",
    "\n",
    "    if response.status_code == 200:\n",
    "        # Display the prediction\n",
    "        st.success(f\"Predicted Class: {response.json()['class']}\")\n",
    "    else:\n",
    "        # Display error message\n",
    "        st.error(f\"Error: {response.text}\")"
   ]
  }
 ],
 "metadata": {
  "kernelspec": {
   "display_name": "Python 3 (ipykernel)",
   "language": "python",
   "name": "python3"
  },
  "language_info": {
   "codemirror_mode": {
    "name": "ipython",
    "version": 3
   },
   "file_extension": ".py",
   "mimetype": "text/x-python",
   "name": "python",
   "nbconvert_exporter": "python",
   "pygments_lexer": "ipython3",
   "version": "3.11.7"
  }
 },
 "nbformat": 4,
 "nbformat_minor": 5
}
